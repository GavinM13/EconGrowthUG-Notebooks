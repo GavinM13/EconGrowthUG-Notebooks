{
 "cells": [
  {
   "cell_type": "code",
   "execution_count": 3,
   "id": "68de72a3-143c-4245-ac22-f05148eb51db",
   "metadata": {
    "tags": []
   },
   "outputs": [],
   "source": [
    "favorite_artists = ['Future', 'Kanye West', 'Metallica', 'Linkin Park', 'MGMT', 'Foster the People', 'Cage the Elephant','The Who', 'Blue Oyster Cult', 'Blink 182']"
   ]
  },
  {
   "cell_type": "code",
   "execution_count": 4,
   "id": "bff7f073-592e-468d-9148-8e5107e78fb5",
   "metadata": {},
   "outputs": [],
   "source": [
    "favorite_songs = ['March Madness', 'Homecoming', 'Enter Sandman', 'Papercut', 'Time to Pretend', 'SHC', 'Take it or Leave it', 'Behind Blue Eyes', 'Godzilla', 'I Miss You']"
   ]
  },
  {
   "cell_type": "code",
   "execution_count": 10,
   "id": "7417c45f-808e-4619-8a49-41e2978feed9",
   "metadata": {},
   "outputs": [],
   "source": [
    "artist_best_song = { 'Future':'March Madness',\n",
    "                       'Kanye West':'Homecoming',\n",
    "                       'Metallica':'Enter Sandman',\n",
    "                        'Linkin Park':'Papercut',\n",
    "                        'MGMT':'Time to Pretend',\n",
    "                        'Foster the People':'SHC',\n",
    "                        'Cage the Elephant':'Take it or Leave it',\n",
    "                        'The Who':'Behind Blue Eyes',\n",
    "                        'Blue Oyster Cult':'Godzilla',\n",
    "                        'Blink 182':'I Miss You'\n",
    "                      }"
   ]
  },
  {
   "cell_type": "code",
   "execution_count": 13,
   "id": "1bbbc9d5-2d2e-4a1f-81af-4fd6b4a678ee",
   "metadata": {},
   "outputs": [
    {
     "name": "stdout",
     "output_type": "stream",
     "text": [
      "March Madness is the best song of Future\n",
      "Homecoming is the best song of Kanye West\n",
      "Enter Sandman is the best song of Metallica\n",
      "Papercut is the best song of Linkin Park\n",
      "Time to Pretend is the best song of MGMT\n",
      "SHC is the best song of Foster the People\n",
      "Take it or Leave it is the best song of Cage the Elephant\n",
      "Behind Blue Eyes is the best song of The Who\n",
      "Godzilla is the best song of Blue Oyster Cult\n",
      "I Miss You is the best song of Blink 182\n"
     ]
    }
   ],
   "source": [
    "for artist in artist_best_song:\n",
    "    print(artist_best_song[artist], 'is the best song of', artist)"
   ]
  },
  {
   "cell_type": "code",
   "execution_count": 5,
   "id": "a866b2f6-a03d-4b8a-bf6a-1609489fef7c",
   "metadata": {},
   "outputs": [],
   "source": [
    "favorite_song_artist = { 'March Madness': 'Future',\n",
    "                            'Homecoming':'Kanye West',\n",
    "                            'Enter Sandman':'Metallica',\n",
    "                            'Papercut':'Linkin Park',\n",
    "                            'Time to Pretend':'MGMT',\n",
    "                            'SHC':'Foster the People',\n",
    "                            'Take it or Leave it':'Cage the Elephant',\n",
    "                            'Behind Blue Eyes':'The Who',\n",
    "                            'Godzilla':'Blue Oyster Cult',\n",
    "                            'I Miss You':'Blink 182'\n",
    "                       }\n",
    "                        \n",
    "                            "
   ]
  }
 ],
 "metadata": {
  "kernelspec": {
   "display_name": "Python 3 (ipykernel)",
   "language": "python",
   "name": "python3"
  },
  "language_info": {
   "codemirror_mode": {
    "name": "ipython",
    "version": 3
   },
   "file_extension": ".py",
   "mimetype": "text/x-python",
   "name": "python",
   "nbconvert_exporter": "python",
   "pygments_lexer": "ipython3",
   "version": "3.9.13"
  }
 },
 "nbformat": 4,
 "nbformat_minor": 5
}
