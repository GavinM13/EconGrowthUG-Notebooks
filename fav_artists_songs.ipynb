{
 "cells": [
  {
   "cell_type": "code",
   "execution_count": 6,
   "id": "68de72a3-143c-4245-ac22-f05148eb51db",
   "metadata": {
    "tags": []
   },
   "outputs": [],
   "source": [
    "favorite_artists = ['Future', 'Kanye West', 'Metallica', 'Linkin Park', 'MGMT', 'Foster the People', 'Cage the Elephant','The Who', 'Blue Oyster Cult', 'Blink 182']"
   ]
  },
  {
   "cell_type": "code",
   "execution_count": 7,
   "id": "bff7f073-592e-468d-9148-8e5107e78fb5",
   "metadata": {},
   "outputs": [],
   "source": [
    "favorite_songs = ['March Madness', 'Homecoming', 'Enter Sandman', 'Papercut', 'Time to Pretend', 'SHC', 'Take it or Leave it', 'Behind Blue Eyes', 'Godzilla', 'I Miss You']\n",
    "\n",
    "favorite_songs = ['Doomsday', 'Smack DVD', 'On Sight', 'Super Gremlin','SHC', 'What You Know', 'Blue Monday', 'Do Ya', 'Every 1s a Winner', 'Its No Good']"
   ]
  },
  {
   "cell_type": "code",
   "execution_count": null,
   "id": "7417c45f-808e-4619-8a49-41e2978feed9",
   "metadata": {},
   "outputs": [],
   "source": [
    "artist_best_song = { 'Future':'March Madness',\n",
    "                       'Kanye West':'Homecoming',\n",
    "                       'Metallica':'Enter Sandman',\n",
    "                        'Linkin Park':'Papercut',\n",
    "                        'MGMT':'Time to Pretend',\n",
    "                        'Foster the People':'SHC'\n",
    "                        'Cage the Elephant':'Take it or Leave it'\n",
    "                        'The Who':'Behind Blue Eyes'\n",
    "                        'Blue Oyster Cult':'Godzilla'\n",
    "                        'Blink 182':'I Miss You'\n",
    "                      }"
   ]
  },
  {
   "cell_type": "code",
   "execution_count": 8,
   "id": "a866b2f6-a03d-4b8a-bf6a-1609489fef7c",
   "metadata": {},
   "outputs": [],
   "source": [
    "favorite_song_artist = { 'Doomsday': 'MF DOOM',\n",
    "                            'Smack DVD':'SAINt JHN',\n",
    "                            'On Sight':'Kanye West',\n",
    "                            'Super Gremlin':'Kodak Black',\n",
    "                            'SHC':'Foster the People',\n",
    "                            'What You Know':'Two Door Cinema Club',\n",
    "                            'Blue Monday':'New Order',\n",
    "                            'Do Ya':'Electric Light Orchestra',\n",
    "                            'Every 1s a Winner':'Hot Chocolate',\n",
    "                            'Its No Good':'Depeche Mode'\n",
    "                       }\n",
    "                        \n",
    "                            "
   ]
  }
 ],
 "metadata": {
  "kernelspec": {
   "display_name": "Python 3 (ipykernel)",
   "language": "python",
   "name": "python3"
  },
  "language_info": {
   "codemirror_mode": {
    "name": "ipython",
    "version": 3
   },
   "file_extension": ".py",
   "mimetype": "text/x-python",
   "name": "python",
   "nbconvert_exporter": "python",
   "pygments_lexer": "ipython3",
   "version": "3.9.13"
  }
 },
 "nbformat": 4,
 "nbformat_minor": 5
}
