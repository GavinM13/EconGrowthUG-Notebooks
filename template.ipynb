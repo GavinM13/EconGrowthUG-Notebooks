{
 "cells": [
  {
   "cell_type": "markdown",
   "id": "53b3bcfd-9813-42fb-88a7-b50288914788",
   "metadata": {
    "slideshow": {
     "slide_type": "slide"
    },
    "tags": [],
    "user_expressions": []
   },
   "source": [
    "# <center>Introduction to <img src=\"https://www.python.org/static/community_logos/python-logo-inkscape.svg\" alt=\"Python\" width=300/> and <img src=\"https://ipython.org/_static/IPy_header.png\" alt=\"IPython\" width=300/> using <img src=\"https://raw.githubusercontent.com/adebar/awesome-jupyter/master/logo.png\" alt=\"Jupyter\" width=300/></center>"
   ]
  },
  {
   "cell_type": "markdown",
   "id": "d92b3006-3639-48e2-93a1-2f7eceb45927",
   "metadata": {
    "user_expressions": []
   },
   "source": [
    "# Import Modules and set Paths"
   ]
  },
  {
   "cell_type": "code",
   "execution_count": 1,
   "id": "ba266fa2-ae31-4a4c-9718-4e9ecbe52e2d",
   "metadata": {},
   "outputs": [
    {
     "name": "stdout",
     "output_type": "stream",
     "text": [
      "Using matplotlib backend: MacOSX\n",
      "Populating the interactive namespace from numpy and matplotlib\n"
     ]
    }
   ],
   "source": [
    "# Basic Packages\n",
    "from __future__ import division\n",
    "import os\n",
    "from datetime import datetime\n",
    "\n",
    "# Plotting\n",
    "import matplotlib as mpl\n",
    "import matplotlib.pyplot as plt\n",
    "\n",
    "%pylab --no-import-all\n",
    "%matplotlib inline\n",
    "\n",
    "import seaborn as sns\n",
    "sns.set(rc={'figure.figsize':(11.7,8.27)})\n",
    "sns.set_context(\"talk\")\n",
    "\n",
    "import plotly.express as px\n",
    "import matplotlib.ticker as mtick\n",
    "\n",
    "# Data\n",
    "import pandas as pd\n",
    "import numpy as np\n",
    "from pandas_datareader import data, wb\n",
    "\n",
    "# Data Munging\n",
    "from itertools import product, combinations\n",
    "import difflib\n",
    "import pycountry\n",
    "import geocoder\n",
    "from geonamescache.mappers import country\n",
    "mapper = country(from_key='name', to_key='iso3')\n",
    "mapper2 = country(from_key='iso3', to_key='iso')\n",
    "mapper3 = country(from_key='iso3', to_key='name')\n",
    "\n",
    "# Paths\n",
    "pathout = './data/'\n",
    "\n",
    "if not os.path.exists(pathout):\n",
    "    os.mkdir(pathout)\n",
    "    \n",
    "pathgraphs = './graphs/'\n",
    "if not os.path.exists(pathgraphs):\n",
    "    os.mkdir(pathgraphs)"
   ]
  },
  {
   "cell_type": "markdown",
   "id": "62c94b7a-cd0e-4aaa-97cb-4d910d5e4cf8",
   "metadata": {
    "tags": [],
    "user_expressions": []
   },
   "source": [
    "<div class=\"alert alert-block alert-info\">\n",
    "    <b>Note:</b>\n",
    "</div>"
   ]
  },
  {
   "cell_type": "markdown",
   "id": "e47c27db-cd71-4928-991b-6686d5b777f5",
   "metadata": {
    "tags": [],
    "user_expressions": []
   },
   "source": [
    "<div class=\"alert alert-block alert-danger\">\n",
    "<b>Careful:</b> \n",
    "</div>"
   ]
  },
  {
   "cell_type": "markdown",
   "id": "8ee399e6-f25f-423f-81be-6a4f0fe38031",
   "metadata": {
    "tags": [],
    "user_expressions": []
   },
   "source": [
    "<div class=\"alert alert-block alert-warning\">\n",
    "<b>Exercise 1:</b>\n",
    "</div>"
   ]
  },
  {
   "cell_type": "code",
   "execution_count": 1,
   "id": "559a0fb7-611c-4098-ad60-88cecf947d76",
   "metadata": {},
   "outputs": [
    {
     "ename": "NameError",
     "evalue": "name 'year' is not defined",
     "output_type": "error",
     "traceback": [
      "\u001b[0;31m---------------------------------------------------------------------------\u001b[0m",
      "\u001b[0;31mNameError\u001b[0m                                 Traceback (most recent call last)",
      "Input \u001b[0;32mIn [1]\u001b[0m, in \u001b[0;36m<cell line: 2>\u001b[0;34m()\u001b[0m\n\u001b[1;32m      1\u001b[0m \u001b[38;5;28;01mdef\u001b[39;00m \u001b[38;5;21mmy_xy_plot\u001b[39m(dfin, \n\u001b[1;32m      2\u001b[0m                x\u001b[38;5;241m=\u001b[39m\u001b[38;5;124m'\u001b[39m\u001b[38;5;124mSP.POP.GROW\u001b[39m\u001b[38;5;124m'\u001b[39m, \n\u001b[1;32m      3\u001b[0m                y\u001b[38;5;241m=\u001b[39m\u001b[38;5;124m'\u001b[39m\u001b[38;5;124mln_gdp_pc\u001b[39m\u001b[38;5;124m'\u001b[39m, \n\u001b[1;32m      4\u001b[0m                labelvar\u001b[38;5;241m=\u001b[39m\u001b[38;5;124m'\u001b[39m\u001b[38;5;124miso3c\u001b[39m\u001b[38;5;124m'\u001b[39m, \n\u001b[1;32m      5\u001b[0m                dx\u001b[38;5;241m=\u001b[39m\u001b[38;5;241m0.006125\u001b[39m, \n\u001b[1;32m      6\u001b[0m                dy\u001b[38;5;241m=\u001b[39m\u001b[38;5;241m0.006125\u001b[39m, \n\u001b[1;32m      7\u001b[0m                xlogscale\u001b[38;5;241m=\u001b[39m\u001b[38;5;28;01mFalse\u001b[39;00m, \n\u001b[1;32m      8\u001b[0m                ylogscale\u001b[38;5;241m=\u001b[39m\u001b[38;5;28;01mFalse\u001b[39;00m,\n\u001b[1;32m      9\u001b[0m                xlabel\u001b[38;5;241m=\u001b[39m\u001b[38;5;124m'\u001b[39m\u001b[38;5;124mGrowth Rate of Population\u001b[39m\u001b[38;5;124m'\u001b[39m, \n\u001b[0;32m---> 10\u001b[0m                ylabel\u001b[38;5;241m=\u001b[39m\u001b[38;5;124m'\u001b[39m\u001b[38;5;124mLog[Income per capita in \u001b[39m\u001b[38;5;124m'\u001b[39m \u001b[38;5;241m+\u001b[39m  \u001b[38;5;28mstr\u001b[39m(\u001b[43myear\u001b[49m) \u001b[38;5;241m+\u001b[39m \u001b[38;5;124m'\u001b[39m\u001b[38;5;124m]\u001b[39m\u001b[38;5;124m'\u001b[39m,\n\u001b[1;32m     11\u001b[0m                labels\u001b[38;5;241m=\u001b[39m\u001b[38;5;28;01mFalse\u001b[39;00m,\n\u001b[1;32m     12\u001b[0m                xpct \u001b[38;5;241m=\u001b[39m \u001b[38;5;28;01mFalse\u001b[39;00m,\n\u001b[1;32m     13\u001b[0m                ypct \u001b[38;5;241m=\u001b[39m \u001b[38;5;28;01mFalse\u001b[39;00m,\n\u001b[1;32m     14\u001b[0m                OLS\u001b[38;5;241m=\u001b[39m\u001b[38;5;28;01mFalse\u001b[39;00m,\n\u001b[1;32m     15\u001b[0m                OLSlinelabel\u001b[38;5;241m=\u001b[39m\u001b[38;5;124m'\u001b[39m\u001b[38;5;124mOLS\u001b[39m\u001b[38;5;124m'\u001b[39m,\n\u001b[1;32m     16\u001b[0m                ssline\u001b[38;5;241m=\u001b[39m\u001b[38;5;28;01mFalse\u001b[39;00m,\n\u001b[1;32m     17\u001b[0m                sslinelabel\u001b[38;5;241m=\u001b[39m\u001b[38;5;124m'\u001b[39m\u001b[38;5;124m45 Degree Line\u001b[39m\u001b[38;5;124m'\u001b[39m,\n\u001b[1;32m     18\u001b[0m                filename\u001b[38;5;241m=\u001b[39m\u001b[38;5;124m'\u001b[39m\u001b[38;5;124mincome-pop-growth.pdf\u001b[39m\u001b[38;5;124m'\u001b[39m,\n\u001b[1;32m     19\u001b[0m                hue\u001b[38;5;241m=\u001b[39m\u001b[38;5;124m'\u001b[39m\u001b[38;5;124mregion\u001b[39m\u001b[38;5;124m'\u001b[39m,\n\u001b[1;32m     20\u001b[0m                hue_order\u001b[38;5;241m=\u001b[39m[\u001b[38;5;124m'\u001b[39m\u001b[38;5;124mEast Asia & Pacific\u001b[39m\u001b[38;5;124m'\u001b[39m, \u001b[38;5;124m'\u001b[39m\u001b[38;5;124mEurope & Central Asia\u001b[39m\u001b[38;5;124m'\u001b[39m,\n\u001b[1;32m     21\u001b[0m                           \u001b[38;5;124m'\u001b[39m\u001b[38;5;124mLatin America & Caribbean \u001b[39m\u001b[38;5;124m'\u001b[39m, \u001b[38;5;124m'\u001b[39m\u001b[38;5;124mMiddle East & North Africa\u001b[39m\u001b[38;5;124m'\u001b[39m,\n\u001b[1;32m     22\u001b[0m                           \u001b[38;5;124m'\u001b[39m\u001b[38;5;124mNorth America\u001b[39m\u001b[38;5;124m'\u001b[39m, \u001b[38;5;124m'\u001b[39m\u001b[38;5;124mSouth Asia\u001b[39m\u001b[38;5;124m'\u001b[39m, \u001b[38;5;124m'\u001b[39m\u001b[38;5;124mSub-Saharan Africa \u001b[39m\u001b[38;5;124m'\u001b[39m],\n\u001b[1;32m     23\u001b[0m                style\u001b[38;5;241m=\u001b[39m\u001b[38;5;124m'\u001b[39m\u001b[38;5;124mincomeLevel\u001b[39m\u001b[38;5;124m'\u001b[39m, \n\u001b[1;32m     24\u001b[0m                style_order\u001b[38;5;241m=\u001b[39m[\u001b[38;5;124m'\u001b[39m\u001b[38;5;124mHigh Income\u001b[39m\u001b[38;5;124m'\u001b[39m, \u001b[38;5;124m'\u001b[39m\u001b[38;5;124mUpper Middle Income\u001b[39m\u001b[38;5;124m'\u001b[39m, \u001b[38;5;124m'\u001b[39m\u001b[38;5;124mLower Middle Income\u001b[39m\u001b[38;5;124m'\u001b[39m, \u001b[38;5;124m'\u001b[39m\u001b[38;5;124mLow Income\u001b[39m\u001b[38;5;124m'\u001b[39m],\n\u001b[1;32m     25\u001b[0m                palette\u001b[38;5;241m=\u001b[39m\u001b[38;5;28;01mNone\u001b[39;00m,\n\u001b[1;32m     26\u001b[0m                fontsize\u001b[38;5;241m=\u001b[39m\u001b[38;5;241m10\u001b[39m,\n\u001b[1;32m     27\u001b[0m                save\u001b[38;5;241m=\u001b[39m\u001b[38;5;28;01mTrue\u001b[39;00m):\n\u001b[1;32m     28\u001b[0m     \u001b[38;5;124;03m'''\u001b[39;00m\n\u001b[1;32m     29\u001b[0m \u001b[38;5;124;03m    Plot the association between x and var in dataframe using labelvar for labels. \u001b[39;00m\n\u001b[1;32m     30\u001b[0m \u001b[38;5;124;03m    '''\u001b[39;00m\n\u001b[1;32m     31\u001b[0m     sns\u001b[38;5;241m.\u001b[39mset(rc\u001b[38;5;241m=\u001b[39m{\u001b[38;5;124m'\u001b[39m\u001b[38;5;124mfigure.figsize\u001b[39m\u001b[38;5;124m'\u001b[39m:(\u001b[38;5;241m11.7\u001b[39m,\u001b[38;5;241m8.27\u001b[39m)})\n",
      "\u001b[0;31mNameError\u001b[0m: name 'year' is not defined"
     ]
    }
   ],
   "source": [
    "def my_xy_plot(dfin, \n",
    "               x='SP.POP.GROW', \n",
    "               y='ln_gdp_pc', \n",
    "               labelvar='iso3c', \n",
    "               dx=0.006125, \n",
    "               dy=0.006125, \n",
    "               xlogscale=False, \n",
    "               ylogscale=False,\n",
    "               xlabel='Growth Rate of Population', \n",
    "               ylabel='Log[Income per capita in ' +  str(year) + ']',\n",
    "               labels=False,\n",
    "               xpct = False,\n",
    "               ypct = False,\n",
    "               OLS=False,\n",
    "               OLSlinelabel='OLS',\n",
    "               ssline=False,\n",
    "               sslinelabel='45 Degree Line',\n",
    "               filename='income-pop-growth.pdf',\n",
    "               hue='region',\n",
    "               hue_order=['East Asia & Pacific', 'Europe & Central Asia',\n",
    "                          'Latin America & Caribbean ', 'Middle East & North Africa',\n",
    "                          'North America', 'South Asia', 'Sub-Saharan Africa '],\n",
    "               style='incomeLevel', \n",
    "               style_order=['High Income', 'Upper Middle Income', 'Lower Middle Income', 'Low Income'],\n",
    "               palette=None,\n",
    "               fontsize=10,\n",
    "               save=True):\n",
    "    '''\n",
    "    Plot the association between x and var in dataframe using labelvar for labels. \n",
    "    '''\n",
    "    sns.set(rc={'figure.figsize':(11.7,8.27)})\n",
    "    sns.set_context(\"talk\")\n",
    "    df = dfin.copy()\n",
    "    df = df.dropna(subset=[x, y]).reset_index(drop=True)\n",
    "    # Plot\n",
    "    k = 0\n",
    "    fig, ax = plt.subplots()\n",
    "    sns.scatterplot(x=x, y=y, data=df, ax=ax, \n",
    "                    hue=hue,\n",
    "                    hue_order=hue_order,\n",
    "                    #hue='incomeLevel',\n",
    "                    #hue_order=['High Income', 'Upper Middle Income', 'Lower Middle Income', 'Low Income'],\n",
    "                    #hue_order=['East Asia & Pacific', 'Europe & Central Asia',\n",
    "                    #           'Latin America & Caribbean ', 'Middle East & North Africa',\n",
    "                    #           'North America', 'South Asia', 'Sub-Saharan Africa '],\n",
    "                    alpha=1, \n",
    "                    style=style, \n",
    "                    style_order=style_order,\n",
    "                    palette=palette,\n",
    "                    #palette=sns.color_palette(\"Blues_r\", df[hue].unique().shape[0]+6)[:df[hue].unique().shape[0]*2:2],\n",
    "                )\n",
    "    if OLS:\n",
    "        sns.regplot(x=x, y=y, data=df, ax=ax, label=OLSlinelabel, scatter=False)\n",
    "    if ssline:\n",
    "        ax.plot([df[x].min()*.99, df[x].max()*1.01], [df[x].min()*.99, df[x].max()*1.01], c='r', label=sslinelabel)\n",
    "    if labels:\n",
    "        movex = df[x].mean() * dx\n",
    "        movey = df[y].mean() * dy\n",
    "        for line in range(0,df.shape[0]):\n",
    "            ax.text(df[x][line]+movex, df[y][line]+movey, df[labelvar][line], horizontalalignment='left', fontsize=12, color='black')\n",
    "    ax.set_xlabel(xlabel)\n",
    "    ax.set_ylabel(ylabel)\n",
    "    if xpct:\n",
    "        fmt = '%.0f%%' # Format you want the ticks, e.g. '40%'\n",
    "        xticks = mtick.FormatStrFormatter(fmt)\n",
    "        ax.xaxis.set_major_formatter(xticks)\n",
    "    if ypct:\n",
    "        fmt = '%.0f%%' # Format you want the ticks, e.g. '40%'\n",
    "        yticks = mtick.FormatStrFormatter(fmt)\n",
    "        ax.yaxis.set_major_formatter(xticks)\n",
    "    if ylogscale:\n",
    "        ax.set(yscale=\"log\")\n",
    "    if xlogscale:\n",
    "        ax.set(xscale=\"log\")\n",
    "    handles, labels = ax.get_legend_handles_labels()\n",
    "    handles = np.array(handles)\n",
    "    labels = np.array(labels)\n",
    "    handles = list(handles[(labels!='region') & (labels!='incomeLevel')])\n",
    "    labels = list(labels[(labels!='region') & (labels!='incomeLevel')])\n",
    "    ax.legend(handles=handles, labels=labels, fontsize=fontsize)\n",
    "    if save:\n",
    "        plt.savefig(pathgraphs + filename, dpi=300, bbox_inches='tight')\n",
    "    pass"
   ]
  },
  {
   "cell_type": "code",
   "execution_count": 181,
   "id": "039bf278-88c0-4d29-b37c-f62b4125d0fe",
   "metadata": {},
   "outputs": [],
   "source": [
    "def my_xy_line_plot(dfin, \n",
    "               x='SP.POP.GROW', \n",
    "               y='ln_gdp_pc', \n",
    "               labelvar='iso3c', \n",
    "               dx=0.006125, \n",
    "               dy=0.006125, \n",
    "               xlogscale=False, \n",
    "               ylogscale=False,\n",
    "               xlabel='Growth Rate of Population', \n",
    "               ylabel='Log[Income per capita in ' +  str(year) + ']',\n",
    "               labels=False,\n",
    "               xpct = False,\n",
    "               ypct = False,\n",
    "               OLS=False,\n",
    "               OLSlinelabel='OLS',\n",
    "               ssline=False,\n",
    "               sslinelabel='45 Degree Line',\n",
    "               filename='income-pop-growth.pdf',\n",
    "               hue='region',\n",
    "               hue_order=['East Asia & Pacific', 'Europe & Central Asia',\n",
    "                          'Latin America & Caribbean ', 'Middle East & North Africa',\n",
    "                          'North America', 'South Asia', 'Sub-Saharan Africa '],\n",
    "               style='incomeLevel', \n",
    "               style_order=['High Income', 'Upper Middle Income', 'Lower Middle Income', 'Low Income'],\n",
    "               palette=None,\n",
    "               fontsize=10,\n",
    "               save=True):\n",
    "    '''\n",
    "    Plot the association between x and var in dataframe using labelvar for labels. \n",
    "    '''\n",
    "    sns.set(rc={'figure.figsize':(11.7,8.27)})\n",
    "    sns.set_context(\"talk\")\n",
    "    df = dfin.copy()\n",
    "    df = df.dropna(subset=[x, y]).reset_index(drop=True)\n",
    "    # Plot\n",
    "    k = 0\n",
    "    fig, ax = plt.subplots()\n",
    "    sns.lineplot(x=x, y=y, data=df, ax=ax, \n",
    "                    hue=hue,\n",
    "                    hue_order=hue_order,\n",
    "                    alpha=1, \n",
    "                    style=style, \n",
    "                    style_order=style_order,\n",
    "                    palette=palette,\n",
    "                )\n",
    "    if OLS:\n",
    "        sns.regplot(x=x, y=y, data=df, ax=ax, label=OLSlinelabel, scatter=False)\n",
    "    if ssline:\n",
    "        ax.plot([df[x].min()*.99, df[x].max()*1.01], [df[x].min()*.99, df[x].max()*1.01], c='r', label=sslinelabel)\n",
    "    if labels:\n",
    "        movex = df[x].mean() * dx\n",
    "        movey = df[y].mean() * dy\n",
    "        for line in range(0,df.shape[0]):\n",
    "            ax.text(df[x][line]+movex, df[y][line]+movey, df[labelvar][line], horizontalalignment='left', fontsize=12, color='black')\n",
    "    ax.set_xlabel(xlabel)\n",
    "    ax.set_ylabel(ylabel)\n",
    "    if xpct:\n",
    "        fmt = '%.0f%%' # Format you want the ticks, e.g. '40%'\n",
    "        xticks = mtick.FormatStrFormatter(fmt)\n",
    "        ax.xaxis.set_major_formatter(xticks)\n",
    "    if ypct:\n",
    "        fmt = '%.0f%%' # Format you want the ticks, e.g. '40%'\n",
    "        yticks = mtick.FormatStrFormatter(fmt)\n",
    "        ax.yaxis.set_major_formatter(xticks)\n",
    "    if ylogscale:\n",
    "        ax.set(yscale=\"log\")\n",
    "    if xlogscale:\n",
    "        ax.set(xscale=\"log\")\n",
    "    handles, labels = ax.get_legend_handles_labels()\n",
    "    handles = np.array(handles)\n",
    "    labels = np.array(labels)\n",
    "    handles = list(handles[(labels!='region') & (labels!='incomeLevel')])\n",
    "    labels = list(labels[(labels!='region') & (labels!='incomeLevel')])\n",
    "    ax.legend(handles=handles, labels=labels, fontsize=fontsize)\n",
    "    if save:\n",
    "        plt.savefig(pathgraphs + filename, dpi=300, bbox_inches='tight')\n",
    "    pass"
   ]
  },
  {
   "cell_type": "markdown",
   "id": "7e069b15-d310-4a6f-909f-dc37469f76b7",
   "metadata": {
    "slideshow": {
     "slide_type": "slide"
    },
    "tags": [],
    "user_expressions": []
   },
   "source": [
    "Notebook written by [Ömer Özak](http://omerozak.com) for his students in Economics at [Southern Methodist University](http://www.smu.edu). Feel free to use, distribute, or contribute."
   ]
  },
  {
   "cell_type": "markdown",
   "id": "45b16c47-b621-4de7-bf4d-25e55e8c3509",
   "metadata": {
    "slideshow": {
     "slide_type": "-"
    },
    "tags": [],
    "user_expressions": []
   },
   "source": [
    "[<center><img src=\"https://github.com/measuring-culture/Expanding-Measurement-Culture-Facebook-JRSI/blob/main/pics/SMUlogowWordmarkRB.jpg?raw=true\" width=\"250\"></center>](http://omerozak.com)"
   ]
  }
 ],
 "metadata": {
  "kernelspec": {
   "display_name": "Python 3 (ipykernel)",
   "language": "python",
   "name": "python3"
  },
  "language_info": {
   "codemirror_mode": {
    "name": "ipython",
    "version": 3
   },
   "file_extension": ".py",
   "mimetype": "text/x-python",
   "name": "python",
   "nbconvert_exporter": "python",
   "pygments_lexer": "ipython3",
   "version": "3.9.13"
  },
  "widgets": {
   "application/vnd.jupyter.widget-state+json": {
    "state": {},
    "version_major": 2,
    "version_minor": 0
   }
  }
 },
 "nbformat": 4,
 "nbformat_minor": 5
}
