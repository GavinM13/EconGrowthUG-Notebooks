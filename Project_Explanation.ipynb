{
 "cells": [
  {
   "cell_type": "markdown",
   "id": "4f25f508-4f59-410c-808c-50579db9a558",
   "metadata": {},
   "source": [
    "Gavin McGuire, Joseph Adair\n",
    "Econ 4362\n",
    "9/25/22\n",
    "\n",
    "\n",
    "\n",
    "                                                               Project Explanation/Idea\n",
    "\n",
    "\n",
    "What is the question or problem you will try to address?\n",
    "\n",
    "\n",
    "The question we will be looking at for this assignment is that, are opportunity zones a good economic and social policy in the United States, by economic, meaning that it brings overall economic growth to the area on a macro level, and by social policy meaning if it empowers low-income citizens in the area by raising their wages and living standards.?\n",
    "\n",
    "\n",
    "\n",
    "Why is this an important or interesting question/issue?\n",
    "\n",
    "\n",
    "This question is both interesting and important because there is an overarching economic battle for policies between both political parties. The battle is between direct payments and opportunities to citizens in low-income areas. Versus on the other hand encourages businesses to improve growth in those low-income areas. In the hopes to save money and bring up wages to those areas and the people in those areas. In order to provide support to the local communities by increasing wages, and hopefully increasing the economic status of the area. Using a more capitalistic approach of engaging businesses in low income areas rather than using govt money towards welfare programs. Using government resources to improve businesses rather than direct payments. Answering this question could be a good indicator of which type of approach to help economically distressed areas could be best. \n",
    "How are you planning to answer it?\n",
    "We will be looking at economic data in certain areas where opportunity zones are a thing in the United States to see if opportunity zones will bring economic growth to distressed areas. As well as using the data to compare wages and living standards from before opportunity zones and comparing them to see if there is an upward increase to wages and living standards for those in the distressed areas. We want to look at the United States as a whole for this topic. If that may be too broad, we can shift to looking at more specific examples of areas that are currently considered economic opportunity zones to areas that are economically stable.\n",
    "\n",
    "\n",
    "\n",
    "What data will you be using?\n",
    "\n",
    "\n",
    "We will be using data from the IPUMS database which will allow us to find population censuses and other data to help determine wage disparities. We will also be using data that has a focus solely on United States wages since we will not be looking at European growths. We will also be using much data from the Madison Historical Data website due to it allowing us to look at the long-run data for wages for different United State locations which would be important to our research.\n",
    "\n",
    "\n",
    "\n",
    "What is the format? Paper? Blog?\n",
    "\n",
    "\n",
    "Our formatting for this project will be in a research paper formatting. The reason as to why this form of presentation will best suit our research question is because it will allow us to provide analysis with direct and indirect sources of data and graphs. Enabling us to clearly provide our stances on this subject.\n",
    "\n",
    "\n",
    "\n",
    "What is the timeline for completion?\n",
    "\n",
    "Firstly, we will gather all the data we will need to create an analysis to find whether or not the data we us directly correlate opportunity zones with economic success in low-income communities. We will organize the data and try and find direct causation between the data and our question that we pose. Once we either find causation or not, we will make an analysis. The analysis should not take too long, and it will allow us to find if the data answers to the question, or if the outcome is separate than what we believe. Furthermore, we will decide if it would make more sense to answer the question at the beginning of the paper, or if it would make more sense to show all of the data first and then answer the question in the conclusion. \n"
   ]
  }
 ],
 "metadata": {
  "kernelspec": {
   "display_name": "Python 3 (ipykernel)",
   "language": "python",
   "name": "python3"
  },
  "language_info": {
   "codemirror_mode": {
    "name": "ipython",
    "version": 3
   },
   "file_extension": ".py",
   "mimetype": "text/x-python",
   "name": "python",
   "nbconvert_exporter": "python",
   "pygments_lexer": "ipython3",
   "version": "3.9.13"
  }
 },
 "nbformat": 4,
 "nbformat_minor": 5
}
